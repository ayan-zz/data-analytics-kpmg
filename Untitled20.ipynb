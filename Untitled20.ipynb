{
 "cells": [
  {
   "cell_type": "code",
   "execution_count": 1,
   "metadata": {},
   "outputs": [],
   "source": [
    "import pandas as pd\n",
    "import numpy as np"
   ]
  },
  {
   "cell_type": "code",
   "execution_count": 372,
   "metadata": {},
   "outputs": [],
   "source": [
    "xlx=pd.ExcelFile('H:/01New Volume (G;)/profile/tata/KPMG_VI_New_raw_data_update_final.xlsx')"
   ]
  },
  {
   "cell_type": "code",
   "execution_count": 373,
   "metadata": {},
   "outputs": [],
   "source": [
    "df=pd.read_excel(xlx,'CustomerDemographic')\n",
    "df1=pd.read_excel(xlx,'Transactions')\n",
    "df2=pd.read_excel(xlx,'CustomerAddress')"
   ]
  },
  {
   "cell_type": "code",
   "execution_count": 374,
   "metadata": {},
   "outputs": [
    {
     "data": {
      "text/html": [
       "<div>\n",
       "<style scoped>\n",
       "    .dataframe tbody tr th:only-of-type {\n",
       "        vertical-align: middle;\n",
       "    }\n",
       "\n",
       "    .dataframe tbody tr th {\n",
       "        vertical-align: top;\n",
       "    }\n",
       "\n",
       "    .dataframe thead th {\n",
       "        text-align: right;\n",
       "    }\n",
       "</style>\n",
       "<table border=\"1\" class=\"dataframe\">\n",
       "  <thead>\n",
       "    <tr style=\"text-align: right;\">\n",
       "      <th></th>\n",
       "      <th>customer_id</th>\n",
       "      <th>first_name</th>\n",
       "      <th>last_name</th>\n",
       "      <th>gender</th>\n",
       "      <th>past_3_years_bike_related_purchases</th>\n",
       "      <th>DOB</th>\n",
       "      <th>job_title</th>\n",
       "      <th>job_industry_category</th>\n",
       "      <th>wealth_segment</th>\n",
       "      <th>deceased_indicator</th>\n",
       "      <th>default</th>\n",
       "      <th>owns_car</th>\n",
       "      <th>tenure</th>\n",
       "    </tr>\n",
       "  </thead>\n",
       "  <tbody>\n",
       "    <tr>\n",
       "      <th>0</th>\n",
       "      <td>1</td>\n",
       "      <td>Laraine</td>\n",
       "      <td>Medendorp</td>\n",
       "      <td>F</td>\n",
       "      <td>93</td>\n",
       "      <td>1953-10-12</td>\n",
       "      <td>Executive Secretary</td>\n",
       "      <td>Health</td>\n",
       "      <td>Mass Customer</td>\n",
       "      <td>N</td>\n",
       "      <td>\"'</td>\n",
       "      <td>Yes</td>\n",
       "      <td>11.0</td>\n",
       "    </tr>\n",
       "    <tr>\n",
       "      <th>1</th>\n",
       "      <td>2</td>\n",
       "      <td>Eli</td>\n",
       "      <td>Bockman</td>\n",
       "      <td>Male</td>\n",
       "      <td>81</td>\n",
       "      <td>1980-12-16</td>\n",
       "      <td>Administrative Officer</td>\n",
       "      <td>Financial Services</td>\n",
       "      <td>Mass Customer</td>\n",
       "      <td>N</td>\n",
       "      <td>&lt;script&gt;alert('hi')&lt;/script&gt;</td>\n",
       "      <td>Yes</td>\n",
       "      <td>16.0</td>\n",
       "    </tr>\n",
       "    <tr>\n",
       "      <th>2</th>\n",
       "      <td>3</td>\n",
       "      <td>Arlin</td>\n",
       "      <td>Dearle</td>\n",
       "      <td>Male</td>\n",
       "      <td>61</td>\n",
       "      <td>1954-01-20</td>\n",
       "      <td>Recruiting Manager</td>\n",
       "      <td>Property</td>\n",
       "      <td>Mass Customer</td>\n",
       "      <td>N</td>\n",
       "      <td>2018-02-01 00:00:00</td>\n",
       "      <td>Yes</td>\n",
       "      <td>15.0</td>\n",
       "    </tr>\n",
       "    <tr>\n",
       "      <th>3</th>\n",
       "      <td>4</td>\n",
       "      <td>Talbot</td>\n",
       "      <td>NaN</td>\n",
       "      <td>Male</td>\n",
       "      <td>33</td>\n",
       "      <td>1961-10-03</td>\n",
       "      <td>Business Systems Development Analyst</td>\n",
       "      <td>IT</td>\n",
       "      <td>Mass Customer</td>\n",
       "      <td>N</td>\n",
       "      <td>() { _; } &gt;_[$($())] { touch /tmp/blns.shellsh...</td>\n",
       "      <td>No</td>\n",
       "      <td>7.0</td>\n",
       "    </tr>\n",
       "    <tr>\n",
       "      <th>4</th>\n",
       "      <td>5</td>\n",
       "      <td>Sheila-kathryn</td>\n",
       "      <td>Calton</td>\n",
       "      <td>Female</td>\n",
       "      <td>56</td>\n",
       "      <td>1977-05-13</td>\n",
       "      <td>Senior Editor</td>\n",
       "      <td>Manufacturing</td>\n",
       "      <td>Affluent Customer</td>\n",
       "      <td>N</td>\n",
       "      <td>NIL</td>\n",
       "      <td>Yes</td>\n",
       "      <td>8.0</td>\n",
       "    </tr>\n",
       "  </tbody>\n",
       "</table>\n",
       "</div>"
      ],
      "text/plain": [
       "   customer_id      first_name  last_name  gender  \\\n",
       "0            1         Laraine  Medendorp       F   \n",
       "1            2             Eli    Bockman    Male   \n",
       "2            3           Arlin     Dearle    Male   \n",
       "3            4          Talbot        NaN    Male   \n",
       "4            5  Sheila-kathryn     Calton  Female   \n",
       "\n",
       "   past_3_years_bike_related_purchases        DOB  \\\n",
       "0                                   93 1953-10-12   \n",
       "1                                   81 1980-12-16   \n",
       "2                                   61 1954-01-20   \n",
       "3                                   33 1961-10-03   \n",
       "4                                   56 1977-05-13   \n",
       "\n",
       "                              job_title job_industry_category  \\\n",
       "0                   Executive Secretary                Health   \n",
       "1                Administrative Officer    Financial Services   \n",
       "2                    Recruiting Manager              Property   \n",
       "3  Business Systems Development Analyst                    IT   \n",
       "4                         Senior Editor         Manufacturing   \n",
       "\n",
       "      wealth_segment deceased_indicator  \\\n",
       "0      Mass Customer                  N   \n",
       "1      Mass Customer                  N   \n",
       "2      Mass Customer                  N   \n",
       "3      Mass Customer                  N   \n",
       "4  Affluent Customer                  N   \n",
       "\n",
       "                                             default owns_car  tenure  \n",
       "0                                                 \"'      Yes    11.0  \n",
       "1                       <script>alert('hi')</script>      Yes    16.0  \n",
       "2                                2018-02-01 00:00:00      Yes    15.0  \n",
       "3  () { _; } >_[$($())] { touch /tmp/blns.shellsh...       No     7.0  \n",
       "4                                                NIL      Yes     8.0  "
      ]
     },
     "execution_count": 374,
     "metadata": {},
     "output_type": "execute_result"
    }
   ],
   "source": [
    "#Top five data from CustomerDemographic dataset\n",
    "df.head()"
   ]
  },
  {
   "cell_type": "code",
   "execution_count": 375,
   "metadata": {},
   "outputs": [
    {
     "data": {
      "text/html": [
       "<div>\n",
       "<style scoped>\n",
       "    .dataframe tbody tr th:only-of-type {\n",
       "        vertical-align: middle;\n",
       "    }\n",
       "\n",
       "    .dataframe tbody tr th {\n",
       "        vertical-align: top;\n",
       "    }\n",
       "\n",
       "    .dataframe thead th {\n",
       "        text-align: right;\n",
       "    }\n",
       "</style>\n",
       "<table border=\"1\" class=\"dataframe\">\n",
       "  <thead>\n",
       "    <tr style=\"text-align: right;\">\n",
       "      <th></th>\n",
       "      <th>transaction_id</th>\n",
       "      <th>product_id</th>\n",
       "      <th>customer_id</th>\n",
       "      <th>transaction_date</th>\n",
       "      <th>online_order</th>\n",
       "      <th>order_status</th>\n",
       "      <th>brand</th>\n",
       "      <th>product_line</th>\n",
       "      <th>product_class</th>\n",
       "      <th>product_size</th>\n",
       "      <th>list_price</th>\n",
       "      <th>standard_cost</th>\n",
       "      <th>product_first_sold_date</th>\n",
       "    </tr>\n",
       "  </thead>\n",
       "  <tbody>\n",
       "    <tr>\n",
       "      <th>0</th>\n",
       "      <td>411</td>\n",
       "      <td>62</td>\n",
       "      <td>3355</td>\n",
       "      <td>2017-12-30</td>\n",
       "      <td>0.0</td>\n",
       "      <td>Approved</td>\n",
       "      <td>Solex</td>\n",
       "      <td>Standard</td>\n",
       "      <td>medium</td>\n",
       "      <td>medium</td>\n",
       "      <td>478.16</td>\n",
       "      <td>298.72</td>\n",
       "      <td>34143.0</td>\n",
       "    </tr>\n",
       "    <tr>\n",
       "      <th>1</th>\n",
       "      <td>606</td>\n",
       "      <td>70</td>\n",
       "      <td>2878</td>\n",
       "      <td>2017-12-30</td>\n",
       "      <td>0.0</td>\n",
       "      <td>Approved</td>\n",
       "      <td>Trek Bicycles</td>\n",
       "      <td>Standard</td>\n",
       "      <td>high</td>\n",
       "      <td>medium</td>\n",
       "      <td>495.72</td>\n",
       "      <td>297.43</td>\n",
       "      <td>36367.0</td>\n",
       "    </tr>\n",
       "    <tr>\n",
       "      <th>2</th>\n",
       "      <td>2843</td>\n",
       "      <td>90</td>\n",
       "      <td>1506</td>\n",
       "      <td>2017-12-30</td>\n",
       "      <td>1.0</td>\n",
       "      <td>Approved</td>\n",
       "      <td>Norco Bicycles</td>\n",
       "      <td>Standard</td>\n",
       "      <td>low</td>\n",
       "      <td>medium</td>\n",
       "      <td>363.01</td>\n",
       "      <td>290.41</td>\n",
       "      <td>38482.0</td>\n",
       "    </tr>\n",
       "    <tr>\n",
       "      <th>3</th>\n",
       "      <td>253</td>\n",
       "      <td>2</td>\n",
       "      <td>3123</td>\n",
       "      <td>2017-12-30</td>\n",
       "      <td>0.0</td>\n",
       "      <td>Approved</td>\n",
       "      <td>Giant Bicycles</td>\n",
       "      <td>Road</td>\n",
       "      <td>low</td>\n",
       "      <td>small</td>\n",
       "      <td>590.26</td>\n",
       "      <td>525.33</td>\n",
       "      <td>40487.0</td>\n",
       "    </tr>\n",
       "    <tr>\n",
       "      <th>4</th>\n",
       "      <td>2285</td>\n",
       "      <td>95</td>\n",
       "      <td>3216</td>\n",
       "      <td>2017-12-30</td>\n",
       "      <td>1.0</td>\n",
       "      <td>Approved</td>\n",
       "      <td>Giant Bicycles</td>\n",
       "      <td>Standard</td>\n",
       "      <td>medium</td>\n",
       "      <td>large</td>\n",
       "      <td>569.56</td>\n",
       "      <td>528.43</td>\n",
       "      <td>42458.0</td>\n",
       "    </tr>\n",
       "  </tbody>\n",
       "</table>\n",
       "</div>"
      ],
      "text/plain": [
       "   transaction_id  product_id  customer_id transaction_date  online_order  \\\n",
       "0             411          62         3355       2017-12-30           0.0   \n",
       "1             606          70         2878       2017-12-30           0.0   \n",
       "2            2843          90         1506       2017-12-30           1.0   \n",
       "3             253           2         3123       2017-12-30           0.0   \n",
       "4            2285          95         3216       2017-12-30           1.0   \n",
       "\n",
       "  order_status           brand product_line product_class product_size  \\\n",
       "0     Approved           Solex     Standard        medium       medium   \n",
       "1     Approved   Trek Bicycles     Standard          high       medium   \n",
       "2     Approved  Norco Bicycles     Standard           low       medium   \n",
       "3     Approved  Giant Bicycles         Road           low        small   \n",
       "4     Approved  Giant Bicycles     Standard        medium        large   \n",
       "\n",
       "   list_price  standard_cost  product_first_sold_date  \n",
       "0      478.16         298.72                  34143.0  \n",
       "1      495.72         297.43                  36367.0  \n",
       "2      363.01         290.41                  38482.0  \n",
       "3      590.26         525.33                  40487.0  \n",
       "4      569.56         528.43                  42458.0  "
      ]
     },
     "execution_count": 375,
     "metadata": {},
     "output_type": "execute_result"
    }
   ],
   "source": [
    "#Top five data from Transaction dataset\n",
    "df1.head()"
   ]
  },
  {
   "cell_type": "code",
   "execution_count": 376,
   "metadata": {},
   "outputs": [
    {
     "data": {
      "text/html": [
       "<div>\n",
       "<style scoped>\n",
       "    .dataframe tbody tr th:only-of-type {\n",
       "        vertical-align: middle;\n",
       "    }\n",
       "\n",
       "    .dataframe tbody tr th {\n",
       "        vertical-align: top;\n",
       "    }\n",
       "\n",
       "    .dataframe thead th {\n",
       "        text-align: right;\n",
       "    }\n",
       "</style>\n",
       "<table border=\"1\" class=\"dataframe\">\n",
       "  <thead>\n",
       "    <tr style=\"text-align: right;\">\n",
       "      <th></th>\n",
       "      <th>customer_id</th>\n",
       "      <th>address</th>\n",
       "      <th>postcode</th>\n",
       "      <th>state</th>\n",
       "      <th>country</th>\n",
       "      <th>property_valuation</th>\n",
       "    </tr>\n",
       "  </thead>\n",
       "  <tbody>\n",
       "    <tr>\n",
       "      <th>0</th>\n",
       "      <td>1</td>\n",
       "      <td>060 Morning Avenue</td>\n",
       "      <td>2016</td>\n",
       "      <td>New South Wales</td>\n",
       "      <td>Australia</td>\n",
       "      <td>10</td>\n",
       "    </tr>\n",
       "    <tr>\n",
       "      <th>1</th>\n",
       "      <td>2</td>\n",
       "      <td>6 Meadow Vale Court</td>\n",
       "      <td>2153</td>\n",
       "      <td>New South Wales</td>\n",
       "      <td>Australia</td>\n",
       "      <td>10</td>\n",
       "    </tr>\n",
       "    <tr>\n",
       "      <th>2</th>\n",
       "      <td>4</td>\n",
       "      <td>0 Holy Cross Court</td>\n",
       "      <td>4211</td>\n",
       "      <td>QLD</td>\n",
       "      <td>Australia</td>\n",
       "      <td>9</td>\n",
       "    </tr>\n",
       "    <tr>\n",
       "      <th>3</th>\n",
       "      <td>5</td>\n",
       "      <td>17979 Del Mar Point</td>\n",
       "      <td>2448</td>\n",
       "      <td>New South Wales</td>\n",
       "      <td>Australia</td>\n",
       "      <td>4</td>\n",
       "    </tr>\n",
       "    <tr>\n",
       "      <th>4</th>\n",
       "      <td>6</td>\n",
       "      <td>9 Oakridge Court</td>\n",
       "      <td>3216</td>\n",
       "      <td>VIC</td>\n",
       "      <td>Australia</td>\n",
       "      <td>9</td>\n",
       "    </tr>\n",
       "  </tbody>\n",
       "</table>\n",
       "</div>"
      ],
      "text/plain": [
       "   customer_id              address  postcode            state    country  \\\n",
       "0            1   060 Morning Avenue      2016  New South Wales  Australia   \n",
       "1            2  6 Meadow Vale Court      2153  New South Wales  Australia   \n",
       "2            4   0 Holy Cross Court      4211              QLD  Australia   \n",
       "3            5  17979 Del Mar Point      2448  New South Wales  Australia   \n",
       "4            6     9 Oakridge Court      3216              VIC  Australia   \n",
       "\n",
       "   property_valuation  \n",
       "0                  10  \n",
       "1                  10  \n",
       "2                   9  \n",
       "3                   4  \n",
       "4                   9  "
      ]
     },
     "execution_count": 376,
     "metadata": {},
     "output_type": "execute_result"
    }
   ],
   "source": [
    "#Top five data from CustomerAddress dataset\n",
    "df2.head()"
   ]
  },
  {
   "cell_type": "code",
   "execution_count": 71,
   "metadata": {},
   "outputs": [],
   "source": [
    "#datasets can be joined here on customer_id column\n",
    "d1=pd.merge(df,df1, left_on='customer_id',right_on='customer_id',how='left')\n",
    "#dt=pd.merge(d1,df2, left_on='customer_id',right_on='customer_id',how='left')"
   ]
  },
  {
   "cell_type": "code",
   "execution_count": 150,
   "metadata": {},
   "outputs": [
    {
     "name": "stdout",
     "output_type": "stream",
     "text": [
      "The features column in CustomerDemographic dataset:\n",
      " Index(['customer_id', 'first_name', 'last_name', 'gender',\n",
      "       'past_3_years_bike_related_purchases', 'DOB', 'job_title',\n",
      "       'job_industry_category', 'wealth_segment', 'deceased_indicator',\n",
      "       'default', 'owns_car', 'tenure'],\n",
      "      dtype='object')\n",
      "------------------------------------------------------------------\n",
      "\n",
      "The features column in Transactions dataset:\n",
      " Index(['transaction_id', 'product_id', 'customer_id', 'transaction_date',\n",
      "       'online_order', 'order_status', 'brand', 'product_line',\n",
      "       'product_class', 'product_size', 'list_price', 'standard_cost',\n",
      "       'product_first_sold_date'],\n",
      "      dtype='object')\n",
      "------------------------------------------------------------------\n",
      "\n",
      "The features column in CustomerAddress dataset:\n",
      " Index(['Note: The data and information in this document is reflective of a hypothetical situation and client. This document is to be used for KPMG Virtual Internship purposes only. ',\n",
      "       'Unnamed: 1', 'Unnamed: 2', 'Unnamed: 3', 'Unnamed: 4', 'Unnamed: 5'],\n",
      "      dtype='object')\n",
      "------------------------------------------------------------------\n"
     ]
    }
   ],
   "source": [
    "#total number of feature columns\n",
    "print(\"The features column in CustomerDemographic dataset:\\n\",df.columns)\n",
    "print(\"------------------------------------------------------------------\\n\")\n",
    "print(\"The features column in Transactions dataset:\\n\",df1.columns)\n",
    "print(\"------------------------------------------------------------------\\n\")\n",
    "print(\"The features column in CustomerAddress dataset:\\n\",df2.columns)\n",
    "print(\"------------------------------------------------------------------\")"
   ]
  },
  {
   "cell_type": "code",
   "execution_count": 151,
   "metadata": {
    "scrolled": false
   },
   "outputs": [
    {
     "data": {
      "text/plain": [
       "customer_id                              0\n",
       "first_name                               0\n",
       "last_name                              125\n",
       "gender                                   0\n",
       "past_3_years_bike_related_purchases      0\n",
       "DOB                                     87\n",
       "job_title                              105\n",
       "job_industry_category                  105\n",
       "wealth_segment                           0\n",
       "deceased_indicator                       0\n",
       "default                                302\n",
       "owns_car                                 0\n",
       "tenure                                  87\n",
       "dtype: int64"
      ]
     },
     "execution_count": 151,
     "metadata": {},
     "output_type": "execute_result"
    }
   ],
   "source": [
    "#finding the null/Nan type values in CustomerDemographic dataset\n",
    "#df.drop(['default'], axis=1)\n",
    "df.isna().sum()"
   ]
  },
  {
   "cell_type": "code",
   "execution_count": 152,
   "metadata": {},
   "outputs": [
    {
     "data": {
      "text/plain": [
       "Female    2037\n",
       "Male      1872\n",
       "U           88\n",
       "Femal        1\n",
       "F            1\n",
       "M            1\n",
       "Name: gender, dtype: int64"
      ]
     },
     "execution_count": 152,
     "metadata": {},
     "output_type": "execute_result"
    }
   ],
   "source": [
    "#Rectifing the gender column of Customer Demographic dataset\n",
    "df['gender'].value_counts()"
   ]
  },
  {
   "cell_type": "code",
   "execution_count": 153,
   "metadata": {},
   "outputs": [],
   "source": [
    "df['gender'].replace('M','Male',inplace=True)\n",
    "df['gender'].replace('F','Female',inplace=True)\n",
    "df['gender'].replace('Femal','Female',inplace=True)"
   ]
  },
  {
   "cell_type": "code",
   "execution_count": 154,
   "metadata": {},
   "outputs": [
    {
     "data": {
      "text/plain": [
       "Female    2039\n",
       "Male      1873\n",
       "U           88\n",
       "Name: gender, dtype: int64"
      ]
     },
     "execution_count": 154,
     "metadata": {},
     "output_type": "execute_result"
    }
   ],
   "source": [
    "#Rectified gender column\n",
    "#need further analysis of 'U' values\n",
    "df['gender'].value_counts()"
   ]
  },
  {
   "cell_type": "code",
   "execution_count": 155,
   "metadata": {},
   "outputs": [
    {
     "data": {
      "text/plain": [
       "Female    2127\n",
       "Male      1873\n",
       "Name: gender, dtype: int64"
      ]
     },
     "execution_count": 155,
     "metadata": {},
     "output_type": "execute_result"
    }
   ],
   "source": [
    "df['gender'].replace('U','Female',inplace=True)\n",
    "df['gender'].value_counts()"
   ]
  },
  {
   "cell_type": "code",
   "execution_count": 156,
   "metadata": {},
   "outputs": [
    {
     "data": {
      "text/plain": [
       "Business Systems Development Analyst    243\n",
       "Tax Accountant                          145\n",
       "Internal Auditor                        114\n",
       "Social Worker                            55\n",
       "Registered Nurse                         47\n",
       "                                       ... \n",
       "Geologist II                              4\n",
       "Health Coach III                          3\n",
       "Health Coach I                            3\n",
       "Research Assistant III                    3\n",
       "Developer I                               1\n",
       "Name: job_title, Length: 195, dtype: int64"
      ]
     },
     "execution_count": 156,
     "metadata": {},
     "output_type": "execute_result"
    }
   ],
   "source": [
    "df['job_title'].value_counts()"
   ]
  },
  {
   "cell_type": "code",
   "execution_count": 157,
   "metadata": {},
   "outputs": [
    {
     "data": {
      "text/plain": [
       "Manufacturing         1115\n",
       "Financial Services     951\n",
       "Health                 618\n",
       "Retail                 379\n",
       "Property               288\n",
       "IT                     223\n",
       "Entertainment          136\n",
       "Argiculture            113\n",
       "Telecommunications      72\n",
       "Name: job_industry_category, dtype: int64"
      ]
     },
     "execution_count": 157,
     "metadata": {},
     "output_type": "execute_result"
    }
   ],
   "source": [
    "df['job_industry_category'].value_counts()"
   ]
  },
  {
   "cell_type": "code",
   "execution_count": 158,
   "metadata": {},
   "outputs": [
    {
     "data": {
      "text/plain": [
       "transaction_id               0\n",
       "product_id                   0\n",
       "customer_id                  0\n",
       "transaction_date             0\n",
       "online_order               360\n",
       "order_status                 0\n",
       "brand                      197\n",
       "product_line               197\n",
       "product_class              197\n",
       "product_size               197\n",
       "list_price                   0\n",
       "standard_cost              197\n",
       "product_first_sold_date    197\n",
       "dtype: int64"
      ]
     },
     "execution_count": 158,
     "metadata": {},
     "output_type": "execute_result"
    }
   ],
   "source": [
    "df1.isna().sum()"
   ]
  },
  {
   "cell_type": "code",
   "execution_count": 225,
   "metadata": {},
   "outputs": [
    {
     "data": {
      "text/plain": [
       "customer_id                               0\n",
       "first_name                                0\n",
       "last_name                               655\n",
       "gender                                    0\n",
       "past_3_years_bike_related_purchases       0\n",
       "DOB                                     457\n",
       "job_title                               510\n",
       "job_industry_category                   510\n",
       "wealth_segment                            0\n",
       "deceased_indicator                        0\n",
       "default                                1499\n",
       "owns_car                                  0\n",
       "tenure                                  457\n",
       "transaction_id                          507\n",
       "product_id                              507\n",
       "transaction_date                        507\n",
       "online_order                            867\n",
       "order_status                            507\n",
       "brand                                   704\n",
       "product_line                            704\n",
       "product_class                           704\n",
       "product_size                            704\n",
       "list_price                              507\n",
       "standard_cost                           704\n",
       "product_first_sold_date                 704\n",
       "dtype: int64"
      ]
     },
     "execution_count": 225,
     "metadata": {},
     "output_type": "execute_result"
    }
   ],
   "source": [
    "d1=pd.merge(df,df1, left_on='customer_id',right_on='customer_id',how='left')\n",
    "d1.isna().sum()"
   ]
  },
  {
   "cell_type": "code",
   "execution_count": 243,
   "metadata": {},
   "outputs": [
    {
     "data": {
      "text/plain": [
       "customer_id                              0\n",
       "first_name                               0\n",
       "last_name                              638\n",
       "gender                                   0\n",
       "past_3_years_bike_related_purchases      0\n",
       "DOB                                    438\n",
       "job_title                              485\n",
       "job_industry_category                  485\n",
       "wealth_segment                           0\n",
       "deceased_indicator                       0\n",
       "owns_car                                 0\n",
       "tenure                                 438\n",
       "transaction_id                           0\n",
       "product_id                               0\n",
       "transaction_date                         0\n",
       "online_order                           358\n",
       "order_status                             0\n",
       "brand                                    0\n",
       "product_line                             0\n",
       "product_class                            0\n",
       "product_size                             0\n",
       "list_price                               0\n",
       "standard_cost                            0\n",
       "product_first_sold_date                  0\n",
       "dtype: int64"
      ]
     },
     "execution_count": 243,
     "metadata": {},
     "output_type": "execute_result"
    }
   ],
   "source": [
    "da=d1.dropna(subset=['transaction_id'],axis=0)\n",
    "da=da.dropna(subset=['brand'],axis=0)\n",
    "da.drop(['default'], axis=1, inplace=True)\n",
    "da.isna().sum()"
   ]
  },
  {
   "cell_type": "code",
   "execution_count": 244,
   "metadata": {},
   "outputs": [
    {
     "data": {
      "text/plain": [
       "Mass Customer        9944\n",
       "High Net Worth       5046\n",
       "Affluent Customer    4810\n",
       "Name: wealth_segment, dtype: int64"
      ]
     },
     "execution_count": 244,
     "metadata": {},
     "output_type": "execute_result"
    }
   ],
   "source": [
    "da['wealth_segment'].value_counts()"
   ]
  },
  {
   "cell_type": "code",
   "execution_count": 245,
   "metadata": {},
   "outputs": [
    {
     "data": {
      "text/plain": [
       "Solex             4252\n",
       "Giant Bicycles    3312\n",
       "WeareA2B          3295\n",
       "OHM Cycles        3042\n",
       "Trek Bicycles     2990\n",
       "Norco Bicycles    2909\n",
       "Name: brand, dtype: int64"
      ]
     },
     "execution_count": 245,
     "metadata": {},
     "output_type": "execute_result"
    }
   ],
   "source": [
    "da['brand'].value_counts()"
   ]
  },
  {
   "cell_type": "code",
   "execution_count": 246,
   "metadata": {},
   "outputs": [
    {
     "data": {
      "text/plain": [
       "Standard    14175\n",
       "Road         3968\n",
       "Touring      1234\n",
       "Mountain      423\n",
       "Name: product_line, dtype: int64"
      ]
     },
     "execution_count": 246,
     "metadata": {},
     "output_type": "execute_result"
    }
   ],
   "source": [
    "da['product_line'].value_counts()"
   ]
  },
  {
   "cell_type": "code",
   "execution_count": 247,
   "metadata": {},
   "outputs": [
    {
     "data": {
      "text/plain": [
       "medium    13823\n",
       "high       3013\n",
       "low        2964\n",
       "Name: product_class, dtype: int64"
      ]
     },
     "execution_count": 247,
     "metadata": {},
     "output_type": "execute_result"
    }
   ],
   "source": [
    "da['product_class'].value_counts()"
   ]
  },
  {
   "cell_type": "code",
   "execution_count": 248,
   "metadata": {},
   "outputs": [
    {
     "data": {
      "text/plain": [
       "Manufacturing         5516\n",
       "Financial Services    4726\n",
       "Health                3157\n",
       "Retail                1853\n",
       "Property              1383\n",
       "IT                    1068\n",
       "Entertainment          694\n",
       "Argiculture            566\n",
       "Telecommunications     352\n",
       "Name: job_industry_category, dtype: int64"
      ]
     },
     "execution_count": 248,
     "metadata": {},
     "output_type": "execute_result"
    }
   ],
   "source": [
    "da['job_industry_category'].value_counts()"
   ]
  },
  {
   "cell_type": "code",
   "execution_count": 249,
   "metadata": {},
   "outputs": [
    {
     "data": {
      "text/plain": [
       "Business Systems Development Analyst    1142\n",
       "Tax Accountant                           661\n",
       "Internal Auditor                         547\n",
       "Social Worker                            283\n",
       "Registered Nurse                         237\n",
       "                                        ... \n",
       "Administrative Assistant I                15\n",
       "Health Coach III                          14\n",
       "Geologist II                              11\n",
       "Research Assistant III                     9\n",
       "Developer I                                7\n",
       "Name: job_title, Length: 195, dtype: int64"
      ]
     },
     "execution_count": 249,
     "metadata": {},
     "output_type": "execute_result"
    }
   ],
   "source": [
    "da['job_title'].value_counts()"
   ]
  },
  {
   "cell_type": "code",
   "execution_count": 250,
   "metadata": {},
   "outputs": [
    {
     "data": {
      "text/plain": [
       "N    19792\n",
       "Y        8\n",
       "Name: deceased_indicator, dtype: int64"
      ]
     },
     "execution_count": 250,
     "metadata": {},
     "output_type": "execute_result"
    }
   ],
   "source": [
    "da['deceased_indicator'].value_counts()"
   ]
  },
  {
   "cell_type": "code",
   "execution_count": 251,
   "metadata": {},
   "outputs": [],
   "source": [
    "da=da[da['deceased_indicator']!='Y']"
   ]
  },
  {
   "cell_type": "code",
   "execution_count": 252,
   "metadata": {},
   "outputs": [
    {
     "data": {
      "text/plain": [
       "N    19792\n",
       "Name: deceased_indicator, dtype: int64"
      ]
     },
     "execution_count": 252,
     "metadata": {},
     "output_type": "execute_result"
    }
   ],
   "source": [
    "da['deceased_indicator'].value_counts()"
   ]
  },
  {
   "cell_type": "code",
   "execution_count": 253,
   "metadata": {},
   "outputs": [
    {
     "data": {
      "text/plain": [
       "Yes    9961\n",
       "No     9831\n",
       "Name: owns_car, dtype: int64"
      ]
     },
     "execution_count": 253,
     "metadata": {},
     "output_type": "execute_result"
    }
   ],
   "source": [
    "da['owns_car'].value_counts()"
   ]
  },
  {
   "cell_type": "code",
   "execution_count": 254,
   "metadata": {},
   "outputs": [
    {
     "data": {
      "text/plain": [
       "Approved     19614\n",
       "Cancelled      178\n",
       "Name: order_status, dtype: int64"
      ]
     },
     "execution_count": 254,
     "metadata": {},
     "output_type": "execute_result"
    }
   ],
   "source": [
    "da['order_status'].value_counts()"
   ]
  },
  {
   "cell_type": "code",
   "execution_count": 255,
   "metadata": {},
   "outputs": [],
   "source": [
    "da=da[da['order_status']!='Cancelled']"
   ]
  },
  {
   "cell_type": "code",
   "execution_count": 256,
   "metadata": {},
   "outputs": [
    {
     "data": {
      "text/plain": [
       "Approved    19614\n",
       "Name: order_status, dtype: int64"
      ]
     },
     "execution_count": 256,
     "metadata": {},
     "output_type": "execute_result"
    }
   ],
   "source": [
    "da['order_status'].value_counts()"
   ]
  },
  {
   "cell_type": "code",
   "execution_count": 309,
   "metadata": {},
   "outputs": [],
   "source": [
    "da1=pd.get_dummies(da['product_class'], prefix=\"class\")\n",
    "dm=pd.concat([da,da1], axis=1)"
   ]
  },
  {
   "cell_type": "code",
   "execution_count": 310,
   "metadata": {},
   "outputs": [],
   "source": [
    "da2=pd.get_dummies(da['brand'])\n",
    "#da3=pd.get_dummies(da['wealth_segment'], prefix=\"seg\")\n",
    "da4=pd.get_dummies(da['product_line'])\n",
    "#da5=pd.get_dummies(da['gender'])\n",
    "dm=pd.concat([dm,da2,da4],axis=1)\n",
    "dm.drop(['brand','product_class','product_line'], axis=1, inplace=True)"
   ]
  },
  {
   "cell_type": "code",
   "execution_count": 311,
   "metadata": {},
   "outputs": [],
   "source": [
    "#da6=pd.get_dummies(dm['owns_car'],prefix=\"car\")\n",
    "#dm=pd.concat([dm,da6],axis=1)\n",
    "#dm.drop(['owns_car','deceased_indicator'], axis=1,inplace=True)"
   ]
  },
  {
   "cell_type": "code",
   "execution_count": 312,
   "metadata": {},
   "outputs": [
    {
     "data": {
      "text/plain": [
       "Index(['customer_id', 'first_name', 'last_name', 'gender',\n",
       "       'past_3_years_bike_related_purchases', 'DOB', 'job_title',\n",
       "       'job_industry_category', 'wealth_segment', 'deceased_indicator',\n",
       "       'owns_car', 'tenure', 'transaction_id', 'product_id',\n",
       "       'transaction_date', 'online_order', 'list_price', 'standard_cost',\n",
       "       'product_first_sold_date', 'class_high', 'class_low', 'class_medium',\n",
       "       'Giant Bicycles', 'Norco Bicycles', 'OHM Cycles', 'Solex',\n",
       "       'Trek Bicycles', 'WeareA2B', 'Mountain', 'Road', 'Standard', 'Touring',\n",
       "       'size_large', 'size_medium', 'size_small'],\n",
       "      dtype='object')"
      ]
     },
     "execution_count": 312,
     "metadata": {},
     "output_type": "execute_result"
    }
   ],
   "source": [
    "da7=pd.get_dummies(dm['product_size'], prefix=\"size\")\n",
    "dm=pd.concat([dm,da7],axis=1)\n",
    "dm.drop(['product_size','order_status'],axis=1,inplace=True)\n",
    "dm.columns"
   ]
  },
  {
   "cell_type": "code",
   "execution_count": 313,
   "metadata": {},
   "outputs": [
    {
     "data": {
      "text/html": [
       "<div>\n",
       "<style scoped>\n",
       "    .dataframe tbody tr th:only-of-type {\n",
       "        vertical-align: middle;\n",
       "    }\n",
       "\n",
       "    .dataframe tbody tr th {\n",
       "        vertical-align: top;\n",
       "    }\n",
       "\n",
       "    .dataframe thead th {\n",
       "        text-align: right;\n",
       "    }\n",
       "</style>\n",
       "<table border=\"1\" class=\"dataframe\">\n",
       "  <thead>\n",
       "    <tr style=\"text-align: right;\">\n",
       "      <th></th>\n",
       "      <th>customer_id</th>\n",
       "      <th>first_name</th>\n",
       "      <th>last_name</th>\n",
       "      <th>gender</th>\n",
       "      <th>past_3_years_bike_related_purchases</th>\n",
       "      <th>DOB</th>\n",
       "      <th>job_title</th>\n",
       "      <th>job_industry_category</th>\n",
       "      <th>wealth_segment</th>\n",
       "      <th>deceased_indicator</th>\n",
       "      <th>...</th>\n",
       "      <th>Solex</th>\n",
       "      <th>Trek Bicycles</th>\n",
       "      <th>WeareA2B</th>\n",
       "      <th>Mountain</th>\n",
       "      <th>Road</th>\n",
       "      <th>Standard</th>\n",
       "      <th>Touring</th>\n",
       "      <th>size_large</th>\n",
       "      <th>size_medium</th>\n",
       "      <th>size_small</th>\n",
       "    </tr>\n",
       "  </thead>\n",
       "  <tbody>\n",
       "    <tr>\n",
       "      <th>0</th>\n",
       "      <td>1</td>\n",
       "      <td>Laraine</td>\n",
       "      <td>Medendorp</td>\n",
       "      <td>Female</td>\n",
       "      <td>93</td>\n",
       "      <td>1953-10-12</td>\n",
       "      <td>Executive Secretary</td>\n",
       "      <td>Health</td>\n",
       "      <td>Mass Customer</td>\n",
       "      <td>N</td>\n",
       "      <td>...</td>\n",
       "      <td>0</td>\n",
       "      <td>0</td>\n",
       "      <td>0</td>\n",
       "      <td>0</td>\n",
       "      <td>0</td>\n",
       "      <td>1</td>\n",
       "      <td>0</td>\n",
       "      <td>0</td>\n",
       "      <td>1</td>\n",
       "      <td>0</td>\n",
       "    </tr>\n",
       "    <tr>\n",
       "      <th>1</th>\n",
       "      <td>1</td>\n",
       "      <td>Laraine</td>\n",
       "      <td>Medendorp</td>\n",
       "      <td>Female</td>\n",
       "      <td>93</td>\n",
       "      <td>1953-10-12</td>\n",
       "      <td>Executive Secretary</td>\n",
       "      <td>Health</td>\n",
       "      <td>Mass Customer</td>\n",
       "      <td>N</td>\n",
       "      <td>...</td>\n",
       "      <td>1</td>\n",
       "      <td>0</td>\n",
       "      <td>0</td>\n",
       "      <td>0</td>\n",
       "      <td>0</td>\n",
       "      <td>1</td>\n",
       "      <td>0</td>\n",
       "      <td>0</td>\n",
       "      <td>1</td>\n",
       "      <td>0</td>\n",
       "    </tr>\n",
       "    <tr>\n",
       "      <th>2</th>\n",
       "      <td>1</td>\n",
       "      <td>Laraine</td>\n",
       "      <td>Medendorp</td>\n",
       "      <td>Female</td>\n",
       "      <td>93</td>\n",
       "      <td>1953-10-12</td>\n",
       "      <td>Executive Secretary</td>\n",
       "      <td>Health</td>\n",
       "      <td>Mass Customer</td>\n",
       "      <td>N</td>\n",
       "      <td>...</td>\n",
       "      <td>0</td>\n",
       "      <td>1</td>\n",
       "      <td>0</td>\n",
       "      <td>0</td>\n",
       "      <td>1</td>\n",
       "      <td>0</td>\n",
       "      <td>0</td>\n",
       "      <td>0</td>\n",
       "      <td>0</td>\n",
       "      <td>1</td>\n",
       "    </tr>\n",
       "    <tr>\n",
       "      <th>3</th>\n",
       "      <td>1</td>\n",
       "      <td>Laraine</td>\n",
       "      <td>Medendorp</td>\n",
       "      <td>Female</td>\n",
       "      <td>93</td>\n",
       "      <td>1953-10-12</td>\n",
       "      <td>Executive Secretary</td>\n",
       "      <td>Health</td>\n",
       "      <td>Mass Customer</td>\n",
       "      <td>N</td>\n",
       "      <td>...</td>\n",
       "      <td>0</td>\n",
       "      <td>0</td>\n",
       "      <td>0</td>\n",
       "      <td>0</td>\n",
       "      <td>0</td>\n",
       "      <td>1</td>\n",
       "      <td>0</td>\n",
       "      <td>0</td>\n",
       "      <td>1</td>\n",
       "      <td>0</td>\n",
       "    </tr>\n",
       "    <tr>\n",
       "      <th>4</th>\n",
       "      <td>1</td>\n",
       "      <td>Laraine</td>\n",
       "      <td>Medendorp</td>\n",
       "      <td>Female</td>\n",
       "      <td>93</td>\n",
       "      <td>1953-10-12</td>\n",
       "      <td>Executive Secretary</td>\n",
       "      <td>Health</td>\n",
       "      <td>Mass Customer</td>\n",
       "      <td>N</td>\n",
       "      <td>...</td>\n",
       "      <td>1</td>\n",
       "      <td>0</td>\n",
       "      <td>0</td>\n",
       "      <td>0</td>\n",
       "      <td>0</td>\n",
       "      <td>1</td>\n",
       "      <td>0</td>\n",
       "      <td>0</td>\n",
       "      <td>1</td>\n",
       "      <td>0</td>\n",
       "    </tr>\n",
       "  </tbody>\n",
       "</table>\n",
       "<p>5 rows × 35 columns</p>\n",
       "</div>"
      ],
      "text/plain": [
       "   customer_id first_name  last_name  gender  \\\n",
       "0            1    Laraine  Medendorp  Female   \n",
       "1            1    Laraine  Medendorp  Female   \n",
       "2            1    Laraine  Medendorp  Female   \n",
       "3            1    Laraine  Medendorp  Female   \n",
       "4            1    Laraine  Medendorp  Female   \n",
       "\n",
       "   past_3_years_bike_related_purchases        DOB            job_title  \\\n",
       "0                                   93 1953-10-12  Executive Secretary   \n",
       "1                                   93 1953-10-12  Executive Secretary   \n",
       "2                                   93 1953-10-12  Executive Secretary   \n",
       "3                                   93 1953-10-12  Executive Secretary   \n",
       "4                                   93 1953-10-12  Executive Secretary   \n",
       "\n",
       "  job_industry_category wealth_segment deceased_indicator  ... Solex  \\\n",
       "0                Health  Mass Customer                  N  ...     0   \n",
       "1                Health  Mass Customer                  N  ...     1   \n",
       "2                Health  Mass Customer                  N  ...     0   \n",
       "3                Health  Mass Customer                  N  ...     0   \n",
       "4                Health  Mass Customer                  N  ...     1   \n",
       "\n",
       "   Trek Bicycles  WeareA2B  Mountain Road  Standard  Touring  size_large  \\\n",
       "0              0         0         0    0         1        0           0   \n",
       "1              0         0         0    0         1        0           0   \n",
       "2              1         0         0    1         0        0           0   \n",
       "3              0         0         0    0         1        0           0   \n",
       "4              0         0         0    0         1        0           0   \n",
       "\n",
       "   size_medium  size_small  \n",
       "0            1           0  \n",
       "1            1           0  \n",
       "2            0           1  \n",
       "3            1           0  \n",
       "4            1           0  \n",
       "\n",
       "[5 rows x 35 columns]"
      ]
     },
     "execution_count": 313,
     "metadata": {},
     "output_type": "execute_result"
    }
   ],
   "source": [
    "dm.head()"
   ]
  },
  {
   "cell_type": "code",
   "execution_count": 314,
   "metadata": {},
   "outputs": [
    {
     "data": {
      "text/html": [
       "<div>\n",
       "<style scoped>\n",
       "    .dataframe tbody tr th:only-of-type {\n",
       "        vertical-align: middle;\n",
       "    }\n",
       "\n",
       "    .dataframe tbody tr th {\n",
       "        vertical-align: top;\n",
       "    }\n",
       "\n",
       "    .dataframe thead th {\n",
       "        text-align: right;\n",
       "    }\n",
       "</style>\n",
       "<table border=\"1\" class=\"dataframe\">\n",
       "  <thead>\n",
       "    <tr style=\"text-align: right;\">\n",
       "      <th></th>\n",
       "      <th>customer_id</th>\n",
       "      <th>Min_Date</th>\n",
       "      <th>Max_Date</th>\n",
       "      <th>total_listprice</th>\n",
       "      <th>total_cost</th>\n",
       "      <th>qty_purchase</th>\n",
       "    </tr>\n",
       "  </thead>\n",
       "  <tbody>\n",
       "    <tr>\n",
       "      <th>0</th>\n",
       "      <td>1</td>\n",
       "      <td>2017-01-05</td>\n",
       "      <td>2017-12-23</td>\n",
       "      <td>9084.45</td>\n",
       "      <td>6066.36</td>\n",
       "      <td>93</td>\n",
       "    </tr>\n",
       "    <tr>\n",
       "      <th>1</th>\n",
       "      <td>2</td>\n",
       "      <td>2017-05-04</td>\n",
       "      <td>2017-08-24</td>\n",
       "      <td>4149.07</td>\n",
       "      <td>1922.81</td>\n",
       "      <td>81</td>\n",
       "    </tr>\n",
       "    <tr>\n",
       "      <th>2</th>\n",
       "      <td>3</td>\n",
       "      <td>2017-02-23</td>\n",
       "      <td>2017-09-19</td>\n",
       "      <td>9888.23</td>\n",
       "      <td>6525.42</td>\n",
       "      <td>61</td>\n",
       "    </tr>\n",
       "    <tr>\n",
       "      <th>3</th>\n",
       "      <td>4</td>\n",
       "      <td>2017-04-03</td>\n",
       "      <td>2017-06-18</td>\n",
       "      <td>1047.72</td>\n",
       "      <td>827.15</td>\n",
       "      <td>33</td>\n",
       "    </tr>\n",
       "    <tr>\n",
       "      <th>4</th>\n",
       "      <td>5</td>\n",
       "      <td>2017-03-03</td>\n",
       "      <td>2017-12-14</td>\n",
       "      <td>5903.20</td>\n",
       "      <td>3508.26</td>\n",
       "      <td>56</td>\n",
       "    </tr>\n",
       "  </tbody>\n",
       "</table>\n",
       "</div>"
      ],
      "text/plain": [
       "   customer_id   Min_Date   Max_Date  total_listprice  total_cost  \\\n",
       "0            1 2017-01-05 2017-12-23          9084.45     6066.36   \n",
       "1            2 2017-05-04 2017-08-24          4149.07     1922.81   \n",
       "2            3 2017-02-23 2017-09-19          9888.23     6525.42   \n",
       "3            4 2017-04-03 2017-06-18          1047.72      827.15   \n",
       "4            5 2017-03-03 2017-12-14          5903.20     3508.26   \n",
       "\n",
       "   qty_purchase  \n",
       "0            93  \n",
       "1            81  \n",
       "2            61  \n",
       "3            33  \n",
       "4            56  "
      ]
     },
     "execution_count": 314,
     "metadata": {},
     "output_type": "execute_result"
    }
   ],
   "source": [
    "data1=dm.groupby('customer_id').agg(Min_Date=('transaction_date', np.min),Max_Date=('transaction_date', np.max),\n",
    "                                    total_listprice=('list_price',np.sum),total_cost=('standard_cost',np.sum),\n",
    "                                    qty_purchase=('past_3_years_bike_related_purchases',np.mean)\n",
    "                                   ).reset_index()\n",
    "data1.head()"
   ]
  },
  {
   "cell_type": "code",
   "execution_count": 315,
   "metadata": {},
   "outputs": [
    {
     "data": {
      "text/html": [
       "<div>\n",
       "<style scoped>\n",
       "    .dataframe tbody tr th:only-of-type {\n",
       "        vertical-align: middle;\n",
       "    }\n",
       "\n",
       "    .dataframe tbody tr th {\n",
       "        vertical-align: top;\n",
       "    }\n",
       "\n",
       "    .dataframe thead th {\n",
       "        text-align: right;\n",
       "    }\n",
       "</style>\n",
       "<table border=\"1\" class=\"dataframe\">\n",
       "  <thead>\n",
       "    <tr style=\"text-align: right;\">\n",
       "      <th></th>\n",
       "      <th>customer_id</th>\n",
       "      <th>Max_Date</th>\n",
       "      <th>total_listprice</th>\n",
       "      <th>total_cost</th>\n",
       "      <th>qty_purchase</th>\n",
       "      <th>last_visit</th>\n",
       "      <th>visit_90</th>\n",
       "    </tr>\n",
       "  </thead>\n",
       "  <tbody>\n",
       "    <tr>\n",
       "      <th>0</th>\n",
       "      <td>1</td>\n",
       "      <td>2017-12-23</td>\n",
       "      <td>9084.45</td>\n",
       "      <td>6066.36</td>\n",
       "      <td>93</td>\n",
       "      <td>7 days</td>\n",
       "      <td>1</td>\n",
       "    </tr>\n",
       "    <tr>\n",
       "      <th>1</th>\n",
       "      <td>2</td>\n",
       "      <td>2017-08-24</td>\n",
       "      <td>4149.07</td>\n",
       "      <td>1922.81</td>\n",
       "      <td>81</td>\n",
       "      <td>128 days</td>\n",
       "      <td>0</td>\n",
       "    </tr>\n",
       "    <tr>\n",
       "      <th>2</th>\n",
       "      <td>3</td>\n",
       "      <td>2017-09-19</td>\n",
       "      <td>9888.23</td>\n",
       "      <td>6525.42</td>\n",
       "      <td>61</td>\n",
       "      <td>102 days</td>\n",
       "      <td>0</td>\n",
       "    </tr>\n",
       "    <tr>\n",
       "      <th>3</th>\n",
       "      <td>4</td>\n",
       "      <td>2017-06-18</td>\n",
       "      <td>1047.72</td>\n",
       "      <td>827.15</td>\n",
       "      <td>33</td>\n",
       "      <td>195 days</td>\n",
       "      <td>0</td>\n",
       "    </tr>\n",
       "    <tr>\n",
       "      <th>4</th>\n",
       "      <td>5</td>\n",
       "      <td>2017-12-14</td>\n",
       "      <td>5903.20</td>\n",
       "      <td>3508.26</td>\n",
       "      <td>56</td>\n",
       "      <td>16 days</td>\n",
       "      <td>1</td>\n",
       "    </tr>\n",
       "  </tbody>\n",
       "</table>\n",
       "</div>"
      ],
      "text/plain": [
       "   customer_id   Max_Date  total_listprice  total_cost  qty_purchase  \\\n",
       "0            1 2017-12-23          9084.45     6066.36            93   \n",
       "1            2 2017-08-24          4149.07     1922.81            81   \n",
       "2            3 2017-09-19          9888.23     6525.42            61   \n",
       "3            4 2017-06-18          1047.72      827.15            33   \n",
       "4            5 2017-12-14          5903.20     3508.26            56   \n",
       "\n",
       "  last_visit  visit_90  \n",
       "0     7 days         1  \n",
       "1   128 days         0  \n",
       "2   102 days         0  \n",
       "3   195 days         0  \n",
       "4    16 days         1  "
      ]
     },
     "execution_count": 315,
     "metadata": {},
     "output_type": "execute_result"
    }
   ],
   "source": [
    "last_date=max(dm['transaction_date'])\n",
    "data1['last_visit']=last_date-data1['Max_Date']\n",
    "data1['visit_90']=np.where(data1['last_visit'].dt.days<=90,1,0)\n",
    "data1.drop(['Min_Date'],axis=1, inplace=True)\n",
    "data1.head()"
   ]
  },
  {
   "cell_type": "code",
   "execution_count": 316,
   "metadata": {},
   "outputs": [
    {
     "data": {
      "text/html": [
       "<div>\n",
       "<style scoped>\n",
       "    .dataframe tbody tr th:only-of-type {\n",
       "        vertical-align: middle;\n",
       "    }\n",
       "\n",
       "    .dataframe tbody tr th {\n",
       "        vertical-align: top;\n",
       "    }\n",
       "\n",
       "    .dataframe thead th {\n",
       "        text-align: right;\n",
       "    }\n",
       "</style>\n",
       "<table border=\"1\" class=\"dataframe\">\n",
       "  <thead>\n",
       "    <tr style=\"text-align: right;\">\n",
       "      <th></th>\n",
       "      <th>customer_id</th>\n",
       "      <th>first_name</th>\n",
       "      <th>last_name</th>\n",
       "      <th>gender</th>\n",
       "      <th>DOB</th>\n",
       "      <th>job_title</th>\n",
       "      <th>job_industry_category</th>\n",
       "      <th>wealth_segment</th>\n",
       "      <th>deceased_indicator</th>\n",
       "      <th>owns_car</th>\n",
       "      <th>...</th>\n",
       "      <th>Touring</th>\n",
       "      <th>size_large</th>\n",
       "      <th>size_medium</th>\n",
       "      <th>size_small</th>\n",
       "      <th>Max_Date</th>\n",
       "      <th>total_listprice</th>\n",
       "      <th>total_cost</th>\n",
       "      <th>qty_purchase</th>\n",
       "      <th>last_visit</th>\n",
       "      <th>visit_90</th>\n",
       "    </tr>\n",
       "  </thead>\n",
       "  <tbody>\n",
       "    <tr>\n",
       "      <th>0</th>\n",
       "      <td>1</td>\n",
       "      <td>Laraine</td>\n",
       "      <td>Medendorp</td>\n",
       "      <td>Female</td>\n",
       "      <td>1953-10-12</td>\n",
       "      <td>Executive Secretary</td>\n",
       "      <td>Health</td>\n",
       "      <td>Mass Customer</td>\n",
       "      <td>N</td>\n",
       "      <td>Yes</td>\n",
       "      <td>...</td>\n",
       "      <td>0</td>\n",
       "      <td>0</td>\n",
       "      <td>1</td>\n",
       "      <td>0</td>\n",
       "      <td>2017-12-23</td>\n",
       "      <td>9084.45</td>\n",
       "      <td>6066.36</td>\n",
       "      <td>93</td>\n",
       "      <td>7 days</td>\n",
       "      <td>1</td>\n",
       "    </tr>\n",
       "    <tr>\n",
       "      <th>1</th>\n",
       "      <td>1</td>\n",
       "      <td>Laraine</td>\n",
       "      <td>Medendorp</td>\n",
       "      <td>Female</td>\n",
       "      <td>1953-10-12</td>\n",
       "      <td>Executive Secretary</td>\n",
       "      <td>Health</td>\n",
       "      <td>Mass Customer</td>\n",
       "      <td>N</td>\n",
       "      <td>Yes</td>\n",
       "      <td>...</td>\n",
       "      <td>0</td>\n",
       "      <td>0</td>\n",
       "      <td>1</td>\n",
       "      <td>0</td>\n",
       "      <td>2017-12-23</td>\n",
       "      <td>9084.45</td>\n",
       "      <td>6066.36</td>\n",
       "      <td>93</td>\n",
       "      <td>7 days</td>\n",
       "      <td>1</td>\n",
       "    </tr>\n",
       "    <tr>\n",
       "      <th>2</th>\n",
       "      <td>1</td>\n",
       "      <td>Laraine</td>\n",
       "      <td>Medendorp</td>\n",
       "      <td>Female</td>\n",
       "      <td>1953-10-12</td>\n",
       "      <td>Executive Secretary</td>\n",
       "      <td>Health</td>\n",
       "      <td>Mass Customer</td>\n",
       "      <td>N</td>\n",
       "      <td>Yes</td>\n",
       "      <td>...</td>\n",
       "      <td>0</td>\n",
       "      <td>0</td>\n",
       "      <td>0</td>\n",
       "      <td>1</td>\n",
       "      <td>2017-12-23</td>\n",
       "      <td>9084.45</td>\n",
       "      <td>6066.36</td>\n",
       "      <td>93</td>\n",
       "      <td>7 days</td>\n",
       "      <td>1</td>\n",
       "    </tr>\n",
       "    <tr>\n",
       "      <th>3</th>\n",
       "      <td>1</td>\n",
       "      <td>Laraine</td>\n",
       "      <td>Medendorp</td>\n",
       "      <td>Female</td>\n",
       "      <td>1953-10-12</td>\n",
       "      <td>Executive Secretary</td>\n",
       "      <td>Health</td>\n",
       "      <td>Mass Customer</td>\n",
       "      <td>N</td>\n",
       "      <td>Yes</td>\n",
       "      <td>...</td>\n",
       "      <td>0</td>\n",
       "      <td>0</td>\n",
       "      <td>1</td>\n",
       "      <td>0</td>\n",
       "      <td>2017-12-23</td>\n",
       "      <td>9084.45</td>\n",
       "      <td>6066.36</td>\n",
       "      <td>93</td>\n",
       "      <td>7 days</td>\n",
       "      <td>1</td>\n",
       "    </tr>\n",
       "    <tr>\n",
       "      <th>4</th>\n",
       "      <td>1</td>\n",
       "      <td>Laraine</td>\n",
       "      <td>Medendorp</td>\n",
       "      <td>Female</td>\n",
       "      <td>1953-10-12</td>\n",
       "      <td>Executive Secretary</td>\n",
       "      <td>Health</td>\n",
       "      <td>Mass Customer</td>\n",
       "      <td>N</td>\n",
       "      <td>Yes</td>\n",
       "      <td>...</td>\n",
       "      <td>0</td>\n",
       "      <td>0</td>\n",
       "      <td>1</td>\n",
       "      <td>0</td>\n",
       "      <td>2017-12-23</td>\n",
       "      <td>9084.45</td>\n",
       "      <td>6066.36</td>\n",
       "      <td>93</td>\n",
       "      <td>7 days</td>\n",
       "      <td>1</td>\n",
       "    </tr>\n",
       "  </tbody>\n",
       "</table>\n",
       "<p>5 rows × 39 columns</p>\n",
       "</div>"
      ],
      "text/plain": [
       "   customer_id first_name  last_name  gender        DOB            job_title  \\\n",
       "0            1    Laraine  Medendorp  Female 1953-10-12  Executive Secretary   \n",
       "1            1    Laraine  Medendorp  Female 1953-10-12  Executive Secretary   \n",
       "2            1    Laraine  Medendorp  Female 1953-10-12  Executive Secretary   \n",
       "3            1    Laraine  Medendorp  Female 1953-10-12  Executive Secretary   \n",
       "4            1    Laraine  Medendorp  Female 1953-10-12  Executive Secretary   \n",
       "\n",
       "  job_industry_category wealth_segment deceased_indicator owns_car  ...  \\\n",
       "0                Health  Mass Customer                  N      Yes  ...   \n",
       "1                Health  Mass Customer                  N      Yes  ...   \n",
       "2                Health  Mass Customer                  N      Yes  ...   \n",
       "3                Health  Mass Customer                  N      Yes  ...   \n",
       "4                Health  Mass Customer                  N      Yes  ...   \n",
       "\n",
       "   Touring  size_large  size_medium  size_small   Max_Date  total_listprice  \\\n",
       "0        0           0            1           0 2017-12-23          9084.45   \n",
       "1        0           0            1           0 2017-12-23          9084.45   \n",
       "2        0           0            0           1 2017-12-23          9084.45   \n",
       "3        0           0            1           0 2017-12-23          9084.45   \n",
       "4        0           0            1           0 2017-12-23          9084.45   \n",
       "\n",
       "   total_cost  qty_purchase  last_visit  visit_90  \n",
       "0     6066.36            93      7 days         1  \n",
       "1     6066.36            93      7 days         1  \n",
       "2     6066.36            93      7 days         1  \n",
       "3     6066.36            93      7 days         1  \n",
       "4     6066.36            93      7 days         1  \n",
       "\n",
       "[5 rows x 39 columns]"
      ]
     },
     "execution_count": 316,
     "metadata": {},
     "output_type": "execute_result"
    }
   ],
   "source": [
    "data1 = pd.merge(dm,data1,how='inner', left_on = 'customer_id', right_on = 'customer_id')\n",
    "data1.drop(['past_3_years_bike_related_purchases','transaction_date'],axis=1,inplace=True)\n",
    "data1.head()"
   ]
  },
  {
   "cell_type": "code",
   "execution_count": 317,
   "metadata": {},
   "outputs": [
    {
     "data": {
      "text/plain": [
       "Index(['customer_id', 'first_name', 'last_name', 'gender', 'DOB', 'job_title',\n",
       "       'job_industry_category', 'wealth_segment', 'deceased_indicator',\n",
       "       'owns_car', 'tenure', 'transaction_id', 'product_id', 'online_order',\n",
       "       'list_price', 'standard_cost', 'product_first_sold_date', 'class_high',\n",
       "       'class_low', 'class_medium', 'Giant Bicycles', 'Norco Bicycles',\n",
       "       'OHM Cycles', 'Solex', 'Trek Bicycles', 'WeareA2B', 'Mountain', 'Road',\n",
       "       'Standard', 'Touring', 'size_large', 'size_medium', 'size_small',\n",
       "       'Max_Date', 'total_listprice', 'total_cost', 'qty_purchase',\n",
       "       'last_visit', 'visit_90'],\n",
       "      dtype='object')"
      ]
     },
     "execution_count": 317,
     "metadata": {},
     "output_type": "execute_result"
    }
   ],
   "source": [
    "data1.columns"
   ]
  },
  {
   "cell_type": "code",
   "execution_count": 320,
   "metadata": {},
   "outputs": [
    {
     "data": {
      "text/html": [
       "<div>\n",
       "<style scoped>\n",
       "    .dataframe tbody tr th:only-of-type {\n",
       "        vertical-align: middle;\n",
       "    }\n",
       "\n",
       "    .dataframe tbody tr th {\n",
       "        vertical-align: top;\n",
       "    }\n",
       "\n",
       "    .dataframe thead th {\n",
       "        text-align: right;\n",
       "    }\n",
       "</style>\n",
       "<table border=\"1\" class=\"dataframe\">\n",
       "  <thead>\n",
       "    <tr style=\"text-align: right;\">\n",
       "      <th></th>\n",
       "      <th>customer_id</th>\n",
       "      <th>job_title</th>\n",
       "      <th>job_industry_category</th>\n",
       "      <th>visit_90</th>\n",
       "      <th>wealth_segment</th>\n",
       "      <th>gender</th>\n",
       "      <th>highclass</th>\n",
       "      <th>mediumclass</th>\n",
       "      <th>Solex</th>\n",
       "      <th>Giant_bicycle</th>\n",
       "      <th>WeareA2B</th>\n",
       "      <th>OHM_cycle</th>\n",
       "      <th>Trek_cycle</th>\n",
       "      <th>Norco_cycle</th>\n",
       "      <th>standard</th>\n",
       "      <th>Road</th>\n",
       "      <th>Touring</th>\n",
       "      <th>total_price</th>\n",
       "      <th>total_cost</th>\n",
       "      <th>qty_purchase</th>\n",
       "    </tr>\n",
       "  </thead>\n",
       "  <tbody>\n",
       "    <tr>\n",
       "      <th>0</th>\n",
       "      <td>1</td>\n",
       "      <td>Executive Secretary</td>\n",
       "      <td>Health</td>\n",
       "      <td>1</td>\n",
       "      <td>Mass Customer</td>\n",
       "      <td>Female</td>\n",
       "      <td>1</td>\n",
       "      <td>1</td>\n",
       "      <td>2</td>\n",
       "      <td>4</td>\n",
       "      <td>0</td>\n",
       "      <td>2</td>\n",
       "      <td>1</td>\n",
       "      <td>2</td>\n",
       "      <td>7</td>\n",
       "      <td>3</td>\n",
       "      <td>0</td>\n",
       "      <td>9084.45</td>\n",
       "      <td>6066.36</td>\n",
       "      <td>93</td>\n",
       "    </tr>\n",
       "    <tr>\n",
       "      <th>1</th>\n",
       "      <td>2</td>\n",
       "      <td>Administrative Officer</td>\n",
       "      <td>Financial Services</td>\n",
       "      <td>0</td>\n",
       "      <td>Mass Customer</td>\n",
       "      <td>Male</td>\n",
       "      <td>0</td>\n",
       "      <td>0</td>\n",
       "      <td>0</td>\n",
       "      <td>1</td>\n",
       "      <td>2</td>\n",
       "      <td>0</td>\n",
       "      <td>0</td>\n",
       "      <td>0</td>\n",
       "      <td>3</td>\n",
       "      <td>0</td>\n",
       "      <td>0</td>\n",
       "      <td>4149.07</td>\n",
       "      <td>1922.81</td>\n",
       "      <td>81</td>\n",
       "    </tr>\n",
       "    <tr>\n",
       "      <th>2</th>\n",
       "      <td>3</td>\n",
       "      <td>Recruiting Manager</td>\n",
       "      <td>Property</td>\n",
       "      <td>0</td>\n",
       "      <td>Mass Customer</td>\n",
       "      <td>Male</td>\n",
       "      <td>1</td>\n",
       "      <td>1</td>\n",
       "      <td>0</td>\n",
       "      <td>2</td>\n",
       "      <td>0</td>\n",
       "      <td>0</td>\n",
       "      <td>3</td>\n",
       "      <td>3</td>\n",
       "      <td>4</td>\n",
       "      <td>3</td>\n",
       "      <td>0</td>\n",
       "      <td>9888.23</td>\n",
       "      <td>6525.42</td>\n",
       "      <td>61</td>\n",
       "    </tr>\n",
       "    <tr>\n",
       "      <th>3</th>\n",
       "      <td>4</td>\n",
       "      <td>Business Systems Development Analyst</td>\n",
       "      <td>IT</td>\n",
       "      <td>0</td>\n",
       "      <td>Mass Customer</td>\n",
       "      <td>Male</td>\n",
       "      <td>0</td>\n",
       "      <td>0</td>\n",
       "      <td>1</td>\n",
       "      <td>1</td>\n",
       "      <td>0</td>\n",
       "      <td>0</td>\n",
       "      <td>0</td>\n",
       "      <td>0</td>\n",
       "      <td>2</td>\n",
       "      <td>0</td>\n",
       "      <td>0</td>\n",
       "      <td>1047.72</td>\n",
       "      <td>827.15</td>\n",
       "      <td>33</td>\n",
       "    </tr>\n",
       "    <tr>\n",
       "      <th>4</th>\n",
       "      <td>5</td>\n",
       "      <td>Senior Editor</td>\n",
       "      <td>Manufacturing</td>\n",
       "      <td>1</td>\n",
       "      <td>Affluent Customer</td>\n",
       "      <td>Female</td>\n",
       "      <td>1</td>\n",
       "      <td>1</td>\n",
       "      <td>1</td>\n",
       "      <td>1</td>\n",
       "      <td>1</td>\n",
       "      <td>0</td>\n",
       "      <td>1</td>\n",
       "      <td>2</td>\n",
       "      <td>2</td>\n",
       "      <td>3</td>\n",
       "      <td>0</td>\n",
       "      <td>5903.20</td>\n",
       "      <td>3508.26</td>\n",
       "      <td>56</td>\n",
       "    </tr>\n",
       "  </tbody>\n",
       "</table>\n",
       "</div>"
      ],
      "text/plain": [
       "   customer_id                             job_title job_industry_category  \\\n",
       "0            1                   Executive Secretary                Health   \n",
       "1            2                Administrative Officer    Financial Services   \n",
       "2            3                    Recruiting Manager              Property   \n",
       "3            4  Business Systems Development Analyst                    IT   \n",
       "4            5                         Senior Editor         Manufacturing   \n",
       "\n",
       "   visit_90     wealth_segment  gender  highclass  mediumclass  Solex  \\\n",
       "0         1      Mass Customer  Female          1            1      2   \n",
       "1         0      Mass Customer    Male          0            0      0   \n",
       "2         0      Mass Customer    Male          1            1      0   \n",
       "3         0      Mass Customer    Male          0            0      1   \n",
       "4         1  Affluent Customer  Female          1            1      1   \n",
       "\n",
       "   Giant_bicycle  WeareA2B  OHM_cycle  Trek_cycle  Norco_cycle  standard  \\\n",
       "0              4         0          2           1            2         7   \n",
       "1              1         2          0           0            0         3   \n",
       "2              2         0          0           3            3         4   \n",
       "3              1         0          0           0            0         2   \n",
       "4              1         1          0           1            2         2   \n",
       "\n",
       "   Road  Touring  total_price  total_cost  qty_purchase  \n",
       "0     3        0      9084.45     6066.36            93  \n",
       "1     0        0      4149.07     1922.81            81  \n",
       "2     3        0      9888.23     6525.42            61  \n",
       "3     0        0      1047.72      827.15            33  \n",
       "4     3        0      5903.20     3508.26            56  "
      ]
     },
     "execution_count": 320,
     "metadata": {},
     "output_type": "execute_result"
    }
   ],
   "source": [
    "data2=data1.groupby(['customer_id','job_title','job_industry_category','visit_90','wealth_segment','gender']).agg(highclass=('class_high',np.count_nonzero),\n",
    "                                                mediumclass=('class_high',np.count_nonzero),Solex=('Solex',np.count_nonzero),Giant_bicycle=('Giant Bicycles',np.count_nonzero),WeareA2B=('WeareA2B', np.count_nonzero),\n",
    "                                        OHM_cycle=('OHM Cycles',np.count_nonzero),Trek_cycle=('Trek Bicycles',np.count_nonzero),Norco_cycle=('Norco Bicycles',np.count_nonzero),\n",
    "                                        standard=('Standard',np.count_nonzero),Road=('Road',np.count_nonzero),Touring=('Touring',np.count_nonzero),\n",
    "                                        total_price=('total_listprice',np.mean),total_cost=('total_cost',np.mean),qty_purchase=('qty_purchase',np.mean)).reset_index()\n",
    "data2.head()"
   ]
  },
  {
   "cell_type": "code",
   "execution_count": 331,
   "metadata": {},
   "outputs": [],
   "source": [
    "data2['net_profit']=data2['total_price']-data2['total_cost']"
   ]
  },
  {
   "cell_type": "code",
   "execution_count": 334,
   "metadata": {},
   "outputs": [
    {
     "data": {
      "text/plain": [
       "11668.949999999993"
      ]
     },
     "execution_count": 334,
     "metadata": {},
     "output_type": "execute_result"
    }
   ],
   "source": [
    "max(data2['net_profit'])"
   ]
  },
  {
   "cell_type": "code",
   "execution_count": 321,
   "metadata": {},
   "outputs": [
    {
     "data": {
      "text/plain": [
       "1    2603\n",
       "0     800\n",
       "Name: visit_90, dtype: int64"
      ]
     },
     "execution_count": 321,
     "metadata": {},
     "output_type": "execute_result"
    }
   ],
   "source": [
    "data2['visit_90'].value_counts()"
   ]
  },
  {
   "cell_type": "code",
   "execution_count": 322,
   "metadata": {},
   "outputs": [
    {
     "data": {
      "text/plain": [
       "Mass Customer        1703\n",
       "High Net Worth        867\n",
       "Affluent Customer     833\n",
       "Name: wealth_segment, dtype: int64"
      ]
     },
     "execution_count": 322,
     "metadata": {},
     "output_type": "execute_result"
    }
   ],
   "source": [
    "data2['wealth_segment'].value_counts()"
   ]
  },
  {
   "cell_type": "code",
   "execution_count": 324,
   "metadata": {},
   "outputs": [
    {
     "data": {
      "text/plain": [
       "1    1309\n",
       "0     394\n",
       "Name: visit_90, dtype: int64"
      ]
     },
     "execution_count": 324,
     "metadata": {},
     "output_type": "execute_result"
    }
   ],
   "source": [
    "ds=data2[data2['wealth_segment']=='Mass Customer']\n",
    "ds['visit_90'].value_counts()"
   ]
  },
  {
   "cell_type": "code",
   "execution_count": 340,
   "metadata": {},
   "outputs": [
    {
     "data": {
      "text/html": [
       "<div>\n",
       "<style scoped>\n",
       "    .dataframe tbody tr th:only-of-type {\n",
       "        vertical-align: middle;\n",
       "    }\n",
       "\n",
       "    .dataframe tbody tr th {\n",
       "        vertical-align: top;\n",
       "    }\n",
       "\n",
       "    .dataframe thead th {\n",
       "        text-align: right;\n",
       "    }\n",
       "</style>\n",
       "<table border=\"1\" class=\"dataframe\">\n",
       "  <thead>\n",
       "    <tr style=\"text-align: right;\">\n",
       "      <th></th>\n",
       "      <th>customer_id</th>\n",
       "      <th>job_title</th>\n",
       "      <th>job_industry_category</th>\n",
       "      <th>visit_90</th>\n",
       "      <th>wealth_segment</th>\n",
       "      <th>gender</th>\n",
       "      <th>highclass</th>\n",
       "      <th>mediumclass</th>\n",
       "      <th>Solex</th>\n",
       "      <th>Giant_bicycle</th>\n",
       "      <th>...</th>\n",
       "      <th>Trek_cycle</th>\n",
       "      <th>Norco_cycle</th>\n",
       "      <th>standard</th>\n",
       "      <th>Road</th>\n",
       "      <th>Touring</th>\n",
       "      <th>total_price</th>\n",
       "      <th>total_cost</th>\n",
       "      <th>qty_purchase</th>\n",
       "      <th>net_profit</th>\n",
       "      <th>status</th>\n",
       "    </tr>\n",
       "  </thead>\n",
       "  <tbody>\n",
       "    <tr>\n",
       "      <th>0</th>\n",
       "      <td>1</td>\n",
       "      <td>Executive Secretary</td>\n",
       "      <td>Health</td>\n",
       "      <td>1</td>\n",
       "      <td>Mass Customer</td>\n",
       "      <td>Female</td>\n",
       "      <td>1</td>\n",
       "      <td>1</td>\n",
       "      <td>2</td>\n",
       "      <td>4</td>\n",
       "      <td>...</td>\n",
       "      <td>1</td>\n",
       "      <td>2</td>\n",
       "      <td>7</td>\n",
       "      <td>3</td>\n",
       "      <td>0</td>\n",
       "      <td>9084.45</td>\n",
       "      <td>6066.36</td>\n",
       "      <td>93</td>\n",
       "      <td>3018.09</td>\n",
       "      <td>3</td>\n",
       "    </tr>\n",
       "    <tr>\n",
       "      <th>1</th>\n",
       "      <td>2</td>\n",
       "      <td>Administrative Officer</td>\n",
       "      <td>Financial Services</td>\n",
       "      <td>0</td>\n",
       "      <td>Mass Customer</td>\n",
       "      <td>Male</td>\n",
       "      <td>0</td>\n",
       "      <td>0</td>\n",
       "      <td>0</td>\n",
       "      <td>1</td>\n",
       "      <td>...</td>\n",
       "      <td>0</td>\n",
       "      <td>0</td>\n",
       "      <td>3</td>\n",
       "      <td>0</td>\n",
       "      <td>0</td>\n",
       "      <td>4149.07</td>\n",
       "      <td>1922.81</td>\n",
       "      <td>81</td>\n",
       "      <td>2226.26</td>\n",
       "      <td>4</td>\n",
       "    </tr>\n",
       "    <tr>\n",
       "      <th>2</th>\n",
       "      <td>3</td>\n",
       "      <td>Recruiting Manager</td>\n",
       "      <td>Property</td>\n",
       "      <td>0</td>\n",
       "      <td>Mass Customer</td>\n",
       "      <td>Male</td>\n",
       "      <td>1</td>\n",
       "      <td>1</td>\n",
       "      <td>0</td>\n",
       "      <td>2</td>\n",
       "      <td>...</td>\n",
       "      <td>3</td>\n",
       "      <td>3</td>\n",
       "      <td>4</td>\n",
       "      <td>3</td>\n",
       "      <td>0</td>\n",
       "      <td>9888.23</td>\n",
       "      <td>6525.42</td>\n",
       "      <td>61</td>\n",
       "      <td>3362.81</td>\n",
       "      <td>3</td>\n",
       "    </tr>\n",
       "    <tr>\n",
       "      <th>3</th>\n",
       "      <td>4</td>\n",
       "      <td>Business Systems Development Analyst</td>\n",
       "      <td>IT</td>\n",
       "      <td>0</td>\n",
       "      <td>Mass Customer</td>\n",
       "      <td>Male</td>\n",
       "      <td>0</td>\n",
       "      <td>0</td>\n",
       "      <td>1</td>\n",
       "      <td>1</td>\n",
       "      <td>...</td>\n",
       "      <td>0</td>\n",
       "      <td>0</td>\n",
       "      <td>2</td>\n",
       "      <td>0</td>\n",
       "      <td>0</td>\n",
       "      <td>1047.72</td>\n",
       "      <td>827.15</td>\n",
       "      <td>33</td>\n",
       "      <td>220.57</td>\n",
       "      <td>5</td>\n",
       "    </tr>\n",
       "    <tr>\n",
       "      <th>4</th>\n",
       "      <td>5</td>\n",
       "      <td>Senior Editor</td>\n",
       "      <td>Manufacturing</td>\n",
       "      <td>1</td>\n",
       "      <td>Affluent Customer</td>\n",
       "      <td>Female</td>\n",
       "      <td>1</td>\n",
       "      <td>1</td>\n",
       "      <td>1</td>\n",
       "      <td>1</td>\n",
       "      <td>...</td>\n",
       "      <td>1</td>\n",
       "      <td>2</td>\n",
       "      <td>2</td>\n",
       "      <td>3</td>\n",
       "      <td>0</td>\n",
       "      <td>5903.20</td>\n",
       "      <td>3508.26</td>\n",
       "      <td>56</td>\n",
       "      <td>2394.94</td>\n",
       "      <td>4</td>\n",
       "    </tr>\n",
       "  </tbody>\n",
       "</table>\n",
       "<p>5 rows × 22 columns</p>\n",
       "</div>"
      ],
      "text/plain": [
       "   customer_id                             job_title job_industry_category  \\\n",
       "0            1                   Executive Secretary                Health   \n",
       "1            2                Administrative Officer    Financial Services   \n",
       "2            3                    Recruiting Manager              Property   \n",
       "3            4  Business Systems Development Analyst                    IT   \n",
       "4            5                         Senior Editor         Manufacturing   \n",
       "\n",
       "   visit_90     wealth_segment  gender  highclass  mediumclass  Solex  \\\n",
       "0         1      Mass Customer  Female          1            1      2   \n",
       "1         0      Mass Customer    Male          0            0      0   \n",
       "2         0      Mass Customer    Male          1            1      0   \n",
       "3         0      Mass Customer    Male          0            0      1   \n",
       "4         1  Affluent Customer  Female          1            1      1   \n",
       "\n",
       "   Giant_bicycle  ...  Trek_cycle  Norco_cycle  standard  Road  Touring  \\\n",
       "0              4  ...           1            2         7     3        0   \n",
       "1              1  ...           0            0         3     0        0   \n",
       "2              2  ...           3            3         4     3        0   \n",
       "3              1  ...           0            0         2     0        0   \n",
       "4              1  ...           1            2         2     3        0   \n",
       "\n",
       "   total_price  total_cost  qty_purchase  net_profit  status  \n",
       "0      9084.45     6066.36            93     3018.09       3  \n",
       "1      4149.07     1922.81            81     2226.26       4  \n",
       "2      9888.23     6525.42            61     3362.81       3  \n",
       "3      1047.72      827.15            33      220.57       5  \n",
       "4      5903.20     3508.26            56     2394.94       4  \n",
       "\n",
       "[5 rows x 22 columns]"
      ]
     },
     "execution_count": 340,
     "metadata": {},
     "output_type": "execute_result"
    }
   ],
   "source": [
    "data2[\"status\"]=0 \n",
    "data2[\"status\"]= np.where(data2['net_profit']>=9000,1,data2['status']) # Outstanding\n",
    "data2[\"status\"]= np.where((data2['net_profit']>=6000) &\n",
    "                              (data2['net_profit']<9000),2,data2['status'])# Excellent\n",
    "data2[\"status\"]= np.where((data2['net_profit']>=3000) &\n",
    "                              (data2['net_profit']<6000),3,data2['status'])# Very good\n",
    "data2[\"status\"]= np.where((data2['net_profit']>=1000) &\n",
    "                              (data2['net_profit']<3000),4,data2['status'])# average\n",
    "data2[\"status\"]= np.where((data2['net_profit']<1000),5,data2['status'])# poor\n",
    "data2.head()"
   ]
  },
  {
   "cell_type": "code",
   "execution_count": 341,
   "metadata": {},
   "outputs": [
    {
     "data": {
      "text/plain": [
       "4    1461\n",
       "3    1360\n",
       "5     356\n",
       "2     211\n",
       "1      15\n",
       "Name: status, dtype: int64"
      ]
     },
     "execution_count": 341,
     "metadata": {},
     "output_type": "execute_result"
    }
   ],
   "source": [
    "data2['status'].value_counts()"
   ]
  },
  {
   "cell_type": "code",
   "execution_count": null,
   "metadata": {},
   "outputs": [],
   "source": [
    "ds=data2[data2['status']!=5]\n",
    "ds=ds[ds['wealth_segment']=='Mass Customer']\n",
    "dd=ds[ds['visit_90']==1]"
   ]
  },
  {
   "cell_type": "code",
   "execution_count": 385,
   "metadata": {},
   "outputs": [],
   "source": [
    "name=df.iloc[:,:3]\n",
    "dd2=dd.iloc[:,:6]\n",
    "final_data=pd.merge(name,dd2,how='inner', left_on = 'customer_id', right_on = 'customer_id')"
   ]
  },
  {
   "cell_type": "code",
   "execution_count": 386,
   "metadata": {},
   "outputs": [
    {
     "data": {
      "text/html": [
       "<div>\n",
       "<style scoped>\n",
       "    .dataframe tbody tr th:only-of-type {\n",
       "        vertical-align: middle;\n",
       "    }\n",
       "\n",
       "    .dataframe tbody tr th {\n",
       "        vertical-align: top;\n",
       "    }\n",
       "\n",
       "    .dataframe thead th {\n",
       "        text-align: right;\n",
       "    }\n",
       "</style>\n",
       "<table border=\"1\" class=\"dataframe\">\n",
       "  <thead>\n",
       "    <tr style=\"text-align: right;\">\n",
       "      <th></th>\n",
       "      <th>customer_id</th>\n",
       "      <th>first_name</th>\n",
       "      <th>last_name</th>\n",
       "      <th>job_title</th>\n",
       "      <th>job_industry_category</th>\n",
       "      <th>wealth_segment</th>\n",
       "      <th>gender</th>\n",
       "    </tr>\n",
       "  </thead>\n",
       "  <tbody>\n",
       "    <tr>\n",
       "      <th>0</th>\n",
       "      <td>1</td>\n",
       "      <td>Laraine</td>\n",
       "      <td>Medendorp</td>\n",
       "      <td>Executive Secretary</td>\n",
       "      <td>Health</td>\n",
       "      <td>Mass Customer</td>\n",
       "      <td>Female</td>\n",
       "    </tr>\n",
       "    <tr>\n",
       "      <th>1</th>\n",
       "      <td>8</td>\n",
       "      <td>Rod</td>\n",
       "      <td>Inder</td>\n",
       "      <td>Media Manager I</td>\n",
       "      <td>Financial Services</td>\n",
       "      <td>Mass Customer</td>\n",
       "      <td>Male</td>\n",
       "    </tr>\n",
       "    <tr>\n",
       "      <th>2</th>\n",
       "      <td>10</td>\n",
       "      <td>Fiorenze</td>\n",
       "      <td>Birdall</td>\n",
       "      <td>Senior Quality Engineer</td>\n",
       "      <td>Financial Services</td>\n",
       "      <td>Mass Customer</td>\n",
       "      <td>Female</td>\n",
       "    </tr>\n",
       "    <tr>\n",
       "      <th>3</th>\n",
       "      <td>11</td>\n",
       "      <td>Uriah</td>\n",
       "      <td>Bisatt</td>\n",
       "      <td>Business Systems Development Analyst</td>\n",
       "      <td>Property</td>\n",
       "      <td>Mass Customer</td>\n",
       "      <td>Male</td>\n",
       "    </tr>\n",
       "    <tr>\n",
       "      <th>4</th>\n",
       "      <td>12</td>\n",
       "      <td>Sawyere</td>\n",
       "      <td>Flattman</td>\n",
       "      <td>Nuclear Power Engineer</td>\n",
       "      <td>Manufacturing</td>\n",
       "      <td>Mass Customer</td>\n",
       "      <td>Male</td>\n",
       "    </tr>\n",
       "    <tr>\n",
       "      <th>5</th>\n",
       "      <td>15</td>\n",
       "      <td>Erroll</td>\n",
       "      <td>Radage</td>\n",
       "      <td>Junior Executive</td>\n",
       "      <td>Manufacturing</td>\n",
       "      <td>Mass Customer</td>\n",
       "      <td>Male</td>\n",
       "    </tr>\n",
       "    <tr>\n",
       "      <th>6</th>\n",
       "      <td>20</td>\n",
       "      <td>Basile</td>\n",
       "      <td>Firth</td>\n",
       "      <td>Project Manager</td>\n",
       "      <td>Manufacturing</td>\n",
       "      <td>Mass Customer</td>\n",
       "      <td>Male</td>\n",
       "    </tr>\n",
       "    <tr>\n",
       "      <th>7</th>\n",
       "      <td>24</td>\n",
       "      <td>Kim</td>\n",
       "      <td>Skpsey</td>\n",
       "      <td>Research Assistant I</td>\n",
       "      <td>Argiculture</td>\n",
       "      <td>Mass Customer</td>\n",
       "      <td>Female</td>\n",
       "    </tr>\n",
       "    <tr>\n",
       "      <th>8</th>\n",
       "      <td>25</td>\n",
       "      <td>Geoff</td>\n",
       "      <td>Assaf</td>\n",
       "      <td>Accounting Assistant III</td>\n",
       "      <td>Financial Services</td>\n",
       "      <td>Mass Customer</td>\n",
       "      <td>Male</td>\n",
       "    </tr>\n",
       "    <tr>\n",
       "      <th>9</th>\n",
       "      <td>29</td>\n",
       "      <td>Mona</td>\n",
       "      <td>Sancraft</td>\n",
       "      <td>Safety Technician III</td>\n",
       "      <td>Manufacturing</td>\n",
       "      <td>Mass Customer</td>\n",
       "      <td>Female</td>\n",
       "    </tr>\n",
       "  </tbody>\n",
       "</table>\n",
       "</div>"
      ],
      "text/plain": [
       "   customer_id first_name  last_name                             job_title  \\\n",
       "0            1    Laraine  Medendorp                   Executive Secretary   \n",
       "1            8        Rod      Inder                       Media Manager I   \n",
       "2           10   Fiorenze    Birdall               Senior Quality Engineer   \n",
       "3           11      Uriah     Bisatt  Business Systems Development Analyst   \n",
       "4           12    Sawyere   Flattman                Nuclear Power Engineer   \n",
       "5           15     Erroll     Radage                      Junior Executive   \n",
       "6           20     Basile      Firth                       Project Manager   \n",
       "7           24        Kim     Skpsey                  Research Assistant I   \n",
       "8           25      Geoff      Assaf              Accounting Assistant III   \n",
       "9           29       Mona   Sancraft                 Safety Technician III   \n",
       "\n",
       "  job_industry_category wealth_segment  gender  \n",
       "0                Health  Mass Customer  Female  \n",
       "1    Financial Services  Mass Customer    Male  \n",
       "2    Financial Services  Mass Customer  Female  \n",
       "3              Property  Mass Customer    Male  \n",
       "4         Manufacturing  Mass Customer    Male  \n",
       "5         Manufacturing  Mass Customer    Male  \n",
       "6         Manufacturing  Mass Customer    Male  \n",
       "7           Argiculture  Mass Customer  Female  \n",
       "8    Financial Services  Mass Customer    Male  \n",
       "9         Manufacturing  Mass Customer  Female  "
      ]
     },
     "execution_count": 386,
     "metadata": {},
     "output_type": "execute_result"
    }
   ],
   "source": [
    "final_data.drop(['visit_90'],axis=1,inplace=True)\n",
    "final_data.head(10)"
   ]
  },
  {
   "cell_type": "code",
   "execution_count": 387,
   "metadata": {},
   "outputs": [],
   "source": [
    "final=pd.merge(final_data,df2,how='inner', left_on = 'customer_id', right_on = 'customer_id')\n",
    "final=final.head(1000)"
   ]
  },
  {
   "cell_type": "code",
   "execution_count": 388,
   "metadata": {},
   "outputs": [
    {
     "data": {
      "text/plain": [
       "(1000, 12)"
      ]
     },
     "execution_count": 388,
     "metadata": {},
     "output_type": "execute_result"
    }
   ],
   "source": [
    "final.shape"
   ]
  },
  {
   "cell_type": "code",
   "execution_count": 389,
   "metadata": {},
   "outputs": [
    {
     "data": {
      "text/html": [
       "<div>\n",
       "<style scoped>\n",
       "    .dataframe tbody tr th:only-of-type {\n",
       "        vertical-align: middle;\n",
       "    }\n",
       "\n",
       "    .dataframe tbody tr th {\n",
       "        vertical-align: top;\n",
       "    }\n",
       "\n",
       "    .dataframe thead th {\n",
       "        text-align: right;\n",
       "    }\n",
       "</style>\n",
       "<table border=\"1\" class=\"dataframe\">\n",
       "  <thead>\n",
       "    <tr style=\"text-align: right;\">\n",
       "      <th></th>\n",
       "      <th>customer_id</th>\n",
       "      <th>first_name</th>\n",
       "      <th>last_name</th>\n",
       "      <th>job_title</th>\n",
       "      <th>job_industry_category</th>\n",
       "      <th>wealth_segment</th>\n",
       "      <th>gender</th>\n",
       "      <th>address</th>\n",
       "      <th>postcode</th>\n",
       "      <th>state</th>\n",
       "      <th>country</th>\n",
       "      <th>property_valuation</th>\n",
       "    </tr>\n",
       "  </thead>\n",
       "  <tbody>\n",
       "    <tr>\n",
       "      <th>0</th>\n",
       "      <td>1</td>\n",
       "      <td>Laraine</td>\n",
       "      <td>Medendorp</td>\n",
       "      <td>Executive Secretary</td>\n",
       "      <td>Health</td>\n",
       "      <td>Mass Customer</td>\n",
       "      <td>Female</td>\n",
       "      <td>060 Morning Avenue</td>\n",
       "      <td>2016</td>\n",
       "      <td>New South Wales</td>\n",
       "      <td>Australia</td>\n",
       "      <td>10</td>\n",
       "    </tr>\n",
       "    <tr>\n",
       "      <th>1</th>\n",
       "      <td>8</td>\n",
       "      <td>Rod</td>\n",
       "      <td>Inder</td>\n",
       "      <td>Media Manager I</td>\n",
       "      <td>Financial Services</td>\n",
       "      <td>Mass Customer</td>\n",
       "      <td>Male</td>\n",
       "      <td>49 Londonderry Lane</td>\n",
       "      <td>2650</td>\n",
       "      <td>New South Wales</td>\n",
       "      <td>Australia</td>\n",
       "      <td>4</td>\n",
       "    </tr>\n",
       "    <tr>\n",
       "      <th>2</th>\n",
       "      <td>11</td>\n",
       "      <td>Uriah</td>\n",
       "      <td>Bisatt</td>\n",
       "      <td>Business Systems Development Analyst</td>\n",
       "      <td>Property</td>\n",
       "      <td>Mass Customer</td>\n",
       "      <td>Male</td>\n",
       "      <td>93405 Ludington Park</td>\n",
       "      <td>3044</td>\n",
       "      <td>VIC</td>\n",
       "      <td>Australia</td>\n",
       "      <td>8</td>\n",
       "    </tr>\n",
       "    <tr>\n",
       "      <th>3</th>\n",
       "      <td>12</td>\n",
       "      <td>Sawyere</td>\n",
       "      <td>Flattman</td>\n",
       "      <td>Nuclear Power Engineer</td>\n",
       "      <td>Manufacturing</td>\n",
       "      <td>Mass Customer</td>\n",
       "      <td>Male</td>\n",
       "      <td>44339 Golden Leaf Alley</td>\n",
       "      <td>4557</td>\n",
       "      <td>QLD</td>\n",
       "      <td>Australia</td>\n",
       "      <td>4</td>\n",
       "    </tr>\n",
       "    <tr>\n",
       "      <th>4</th>\n",
       "      <td>15</td>\n",
       "      <td>Erroll</td>\n",
       "      <td>Radage</td>\n",
       "      <td>Junior Executive</td>\n",
       "      <td>Manufacturing</td>\n",
       "      <td>Mass Customer</td>\n",
       "      <td>Male</td>\n",
       "      <td>9861 New Castle Avenue</td>\n",
       "      <td>2428</td>\n",
       "      <td>New South Wales</td>\n",
       "      <td>Australia</td>\n",
       "      <td>9</td>\n",
       "    </tr>\n",
       "  </tbody>\n",
       "</table>\n",
       "</div>"
      ],
      "text/plain": [
       "   customer_id first_name  last_name                             job_title  \\\n",
       "0            1    Laraine  Medendorp                   Executive Secretary   \n",
       "1            8        Rod      Inder                       Media Manager I   \n",
       "2           11      Uriah     Bisatt  Business Systems Development Analyst   \n",
       "3           12    Sawyere   Flattman                Nuclear Power Engineer   \n",
       "4           15     Erroll     Radage                      Junior Executive   \n",
       "\n",
       "  job_industry_category wealth_segment  gender                  address  \\\n",
       "0                Health  Mass Customer  Female       060 Morning Avenue   \n",
       "1    Financial Services  Mass Customer    Male      49 Londonderry Lane   \n",
       "2              Property  Mass Customer    Male     93405 Ludington Park   \n",
       "3         Manufacturing  Mass Customer    Male  44339 Golden Leaf Alley   \n",
       "4         Manufacturing  Mass Customer    Male   9861 New Castle Avenue   \n",
       "\n",
       "   postcode            state    country  property_valuation  \n",
       "0      2016  New South Wales  Australia                  10  \n",
       "1      2650  New South Wales  Australia                   4  \n",
       "2      3044              VIC  Australia                   8  \n",
       "3      4557              QLD  Australia                   4  \n",
       "4      2428  New South Wales  Australia                   9  "
      ]
     },
     "execution_count": 389,
     "metadata": {},
     "output_type": "execute_result"
    }
   ],
   "source": [
    "final.head()"
   ]
  },
  {
   "cell_type": "code",
   "execution_count": 394,
   "metadata": {},
   "outputs": [
    {
     "name": "stdout",
     "output_type": "stream",
     "text": [
      "The summary for Outstanding performers: \n",
      "\n",
      "Count:  1360\n",
      "       customer_id     visit_90    highclass  mediumclass        Solex  \\\n",
      "count  1360.000000  1360.000000  1360.000000  1360.000000  1360.000000   \n",
      "mean   1731.571324     0.830882     0.961765     0.961765     1.461765   \n",
      "std    1014.729326     0.374994     0.980311     0.980311     1.144463   \n",
      "min       1.000000     0.000000     0.000000     0.000000     0.000000   \n",
      "25%     838.750000     1.000000     0.000000     0.000000     1.000000   \n",
      "50%    1754.500000     1.000000     1.000000     1.000000     1.000000   \n",
      "75%    2600.250000     1.000000     1.000000     1.000000     2.000000   \n",
      "max    3499.000000     1.000000     6.000000     6.000000     7.000000   \n",
      "\n",
      "       Giant_bicycle     WeareA2B    OHM_cycle   Trek_cycle  Norco_cycle  \\\n",
      "count    1360.000000  1360.000000  1360.000000  1360.000000  1360.000000   \n",
      "mean        1.125735     1.207353     0.983824     1.007353     0.921324   \n",
      "std         1.022736     0.950398     0.968087     0.940436     0.951580   \n",
      "min         0.000000     0.000000     0.000000     0.000000     0.000000   \n",
      "25%         0.000000     1.000000     0.000000     0.000000     0.000000   \n",
      "50%         1.000000     1.000000     1.000000     1.000000     1.000000   \n",
      "75%         2.000000     2.000000     2.000000     2.000000     1.000000   \n",
      "max         7.000000     5.000000     6.000000     5.000000     7.000000   \n",
      "\n",
      "          standard         Road      Touring   total_price    total_cost  \\\n",
      "count  1360.000000  1360.000000  1360.000000   1360.000000   1360.000000   \n",
      "mean      4.852941     1.236765     0.497059   7861.089618   3678.656493   \n",
      "std       1.664367     1.108454     0.661118   1885.437249   1542.899430   \n",
      "min       0.000000     0.000000     0.000000   3480.500000    217.520000   \n",
      "25%       4.000000     0.000000     0.000000   6418.242500   2578.172500   \n",
      "50%       5.000000     1.000000     0.000000   7726.765000   3510.980000   \n",
      "75%       6.000000     2.000000     1.000000   9084.247500   4636.375000   \n",
      "max      11.000000     6.000000     3.000000  17035.830000  11699.100000   \n",
      "\n",
      "       qty_purchase   net_profit  status  \n",
      "count   1360.000000  1360.000000  1360.0  \n",
      "mean      49.368382  4182.433125     3.0  \n",
      "std       28.679606   798.435111     0.0  \n",
      "min        0.000000  3000.700000     3.0  \n",
      "25%       25.000000  3489.802500     3.0  \n",
      "50%       48.000000  4054.535000     3.0  \n",
      "75%       74.000000  4779.085000     3.0  \n",
      "max       99.000000  5995.200000     3.0  \n",
      "-----------------------------------------------------------\n",
      "\n"
     ]
    }
   ],
   "source": [
    "print(\"The summary for Outstanding performers: \\n\")\n",
    "#print(\"cosumer_id:\",dd.index.tolist())\n",
    "print(\"Count: \",len(data_1.index))\n",
    "data_1=data2[data2['status']==3]\n",
    "print(data_1.describe())\n",
    "print(\"-----------------------------------------------------------\\n\")\n",
    "\n",
    "#print(\"The summary for Excellent performers: \\n\")\n",
    "#print(\"Countries:\",data_2.index.tolist())\n",
    "#print(\"Count: \",len(data_2.index))\n",
    "#data_2=user_data[user_data['status']==2]\n",
    "#print(data_2.describe())\n",
    "#print(\"-----------------------------------------------------------\\n\")\n"
   ]
  },
  {
   "cell_type": "code",
   "execution_count": 397,
   "metadata": {},
   "outputs": [
    {
     "data": {
      "text/plain": [
       "Text(0.5, 1.0, 'wealth segment vs net profit')"
      ]
     },
     "execution_count": 397,
     "metadata": {},
     "output_type": "execute_result"
    },
    {
     "data": {
      "image/png": "[encoded data removed]",
      "text/plain": [
       "<Figure size 432x288 with 1 Axes>"
      ]
     },
     "metadata": {
      "needs_background": "light"
     },
     "output_type": "display_data"
    }
   ],
   "source": [
    "#wealth segment vs net profit\n",
    "import matplotlib.pyplot as plt\n",
    "%matplotlib inline\n",
    "plt.bar(data2.wealth_segment,data2.net_profit, color='c')\n",
    "plt.xlabel('wealth_segment')\n",
    "plt.ylabel('profit')\n",
    "plt.title('wealth segment vs net profit')"
   ]
  },
  {
   "cell_type": "code",
   "execution_count": 409,
   "metadata": {},
   "outputs": [
    {
     "data": {
      "text/plain": [
       "Text(0.5, 1.0, 'status vs standard product')"
      ]
     },
     "execution_count": 409,
     "metadata": {},
     "output_type": "execute_result"
    },
    {
     "data": {
      "image/png": "[encoded data removed]",
      "text/plain": [
       "<Figure size 720x360 with 1 Axes>"
      ]
     },
     "metadata": {
      "needs_background": "light"
     },
     "output_type": "display_data"
    }
   ],
   "source": [
    "figure_name = plt.figure(figsize=(10, 5))\n",
    "plt.bar(data2.status,data2.standard, color='grey')\n",
    "plt.xlabel('status')\n",
    "plt.ylabel('standard')\n",
    "plt.title('status vs standard product')"
   ]
  },
  {
   "cell_type": "code",
   "execution_count": 411,
   "metadata": {},
   "outputs": [
    {
     "data": {
      "text/plain": [
       "Text(0.5, 1.0, 'status vs Solex Bicycle')"
      ]
     },
     "execution_count": 411,
     "metadata": {},
     "output_type": "execute_result"
    },
    {
     "data": {
      "image/png": "[encoded data removed]",
      "text/plain": [
       "<Figure size 720x360 with 1 Axes>"
      ]
     },
     "metadata": {
      "needs_background": "light"
     },
     "output_type": "display_data"
    }
   ],
   "source": [
    "figure_name = plt.figure(figsize=(10, 5))\n",
    "plt.bar(data2.status,data2.Solex, color='grey')\n",
    "plt.xlabel('status')\n",
    "plt.ylabel('Solex Bicycle')\n",
    "plt.title('status vs Solex Bicycle')"
   ]
  },
  {
   "cell_type": "code",
   "execution_count": null,
   "metadata": {},
   "outputs": [],
   "source": []
  }
 ],
 "metadata": {
  "kernelspec": {
   "display_name": "Python 3",
   "language": "python",
   "name": "python3"
  },
  "language_info": {
   "codemirror_mode": {
    "name": "ipython",
    "version": 3
   },
   "file_extension": ".py",
   "mimetype": "text/x-python",
   "name": "python",
   "nbconvert_exporter": "python",
   "pygments_lexer": "ipython3",
   "version": "3.7.4"
  }
 },
 "nbformat": 4,
 "nbformat_minor": 2
}
